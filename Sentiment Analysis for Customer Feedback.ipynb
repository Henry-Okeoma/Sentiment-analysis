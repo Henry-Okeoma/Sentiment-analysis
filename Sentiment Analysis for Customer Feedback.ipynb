{
 "cells": [
  {
   "cell_type": "code",
   "execution_count": 1,
   "id": "c717a05d",
   "metadata": {},
   "outputs": [
    {
     "name": "stderr",
     "output_type": "stream",
     "text": [
      "[nltk_data] Downloading package stopwords to C:\\Users\\HENRY\n",
      "[nltk_data]     OKEOMA\\AppData\\Roaming\\nltk_data...\n",
      "[nltk_data]   Package stopwords is already up-to-date!\n",
      "[nltk_data] Downloading package punkt to C:\\Users\\HENRY\n",
      "[nltk_data]     OKEOMA\\AppData\\Roaming\\nltk_data...\n",
      "[nltk_data]   Package punkt is already up-to-date!\n"
     ]
    }
   ],
   "source": [
    "# Import statements\n",
    "import pandas as pd\n",
    "\n",
    "import nltk\n",
    "from nltk.corpus import stopwords\n",
    "nltk.download(\"stopwords\")\n",
    "nltk.download(\"punkt\")\n",
    "stop_words = stopwords.words()\n",
    "from tqdm import tqdm"
   ]
  },
  {
   "cell_type": "code",
   "execution_count": 2,
   "id": "bdf0b1fa",
   "metadata": {},
   "outputs": [],
   "source": [
    "df1 = pd.read_csv(r\"C:\\Users\\HENRY OKEOMA\\Downloads\\e commerce reviews train.csv\")"
   ]
  },
  {
   "cell_type": "code",
   "execution_count": 3,
   "id": "e821a1f3",
   "metadata": {},
   "outputs": [],
   "source": [
    "df2 = pd.read_csv(r\"C:\\Users\\HENRY OKEOMA\\Downloads\\e commerce reviews test.csv\")"
   ]
  },
  {
   "cell_type": "code",
   "execution_count": 4,
   "id": "e588aefa",
   "metadata": {},
   "outputs": [
    {
     "data": {
      "text/plain": [
       "array(['__label__2', '__label__1'], dtype=object)"
      ]
     },
     "execution_count": 4,
     "metadata": {},
     "output_type": "execute_result"
    }
   ],
   "source": [
    "# Bring the unique Labels\n",
    "df1['labels'].unique()"
   ]
  },
  {
   "cell_type": "code",
   "execution_count": 5,
   "id": "c9150987",
   "metadata": {},
   "outputs": [
    {
     "data": {
      "text/plain": [
       "'Buyer beware: This is a self-published book, and if you want to know why--read a few paragraphs! Those 5 star reviews must have been written by Ms. Haddon\\'s family and friends--or perhaps, by herself! I can\\'t imagine anyone reading the whole thing--I spent an evening with the book and a friend and we were in hysterics reading bits and pieces of it to one another. It is most definitely bad enough to be entered into some kind of a \"worst book\" contest. I can\\'t believe Amazon even sells this kind of thing. Maybe I can offer them my 8th grade term paper on \"To Kill a Mockingbird\"--a book I am quite sure Ms. Haddon never heard of. Anyway, unless you are in a mood to send a book to someone as a joke---stay far, far away from this one!'"
      ]
     },
     "execution_count": 5,
     "metadata": {},
     "output_type": "execute_result"
    }
   ],
   "source": [
    "# Check for the row at index 6\n",
    "df1.iloc[6]['text']"
   ]
  },
  {
   "cell_type": "code",
   "execution_count": 6,
   "id": "4dbb55d3",
   "metadata": {},
   "outputs": [],
   "source": [
    "#  Mapping the values by using dictionaries \\old value and new value\n",
    "\n",
    "mapping_values = {\n",
    "    \"__label__1\" : \"negative\",\n",
    "    \"__label__2\" : \"positive\"\n",
    "}"
   ]
  },
  {
   "cell_type": "code",
   "execution_count": 7,
   "id": "726709dd",
   "metadata": {},
   "outputs": [],
   "source": [
    "# Mapping the Labels on train data\n",
    "df1['labels'] = df1['labels'].map(mapping_values)"
   ]
  },
  {
   "cell_type": "code",
   "execution_count": 8,
   "id": "30170ce4",
   "metadata": {},
   "outputs": [],
   "source": [
    "# Mapping the Labels on test data\n",
    "df2['labels'] = df2['labels'].map(mapping_values)"
   ]
  },
  {
   "cell_type": "code",
   "execution_count": 9,
   "id": "cd5a1d36",
   "metadata": {},
   "outputs": [
    {
     "data": {
      "text/html": [
       "<div>\n",
       "<style scoped>\n",
       "    .dataframe tbody tr th:only-of-type {\n",
       "        vertical-align: middle;\n",
       "    }\n",
       "\n",
       "    .dataframe tbody tr th {\n",
       "        vertical-align: top;\n",
       "    }\n",
       "\n",
       "    .dataframe thead th {\n",
       "        text-align: right;\n",
       "    }\n",
       "</style>\n",
       "<table border=\"1\" class=\"dataframe\">\n",
       "  <thead>\n",
       "    <tr style=\"text-align: right;\">\n",
       "      <th></th>\n",
       "      <th>labels</th>\n",
       "      <th>text</th>\n",
       "    </tr>\n",
       "  </thead>\n",
       "  <tbody>\n",
       "    <tr>\n",
       "      <th>0</th>\n",
       "      <td>positive</td>\n",
       "      <td>Stuning even for the non-gamer: This sound tra...</td>\n",
       "    </tr>\n",
       "    <tr>\n",
       "      <th>1</th>\n",
       "      <td>positive</td>\n",
       "      <td>The best soundtrack ever to anything.: I'm rea...</td>\n",
       "    </tr>\n",
       "    <tr>\n",
       "      <th>2</th>\n",
       "      <td>positive</td>\n",
       "      <td>Amazing!: This soundtrack is my favorite music...</td>\n",
       "    </tr>\n",
       "    <tr>\n",
       "      <th>3</th>\n",
       "      <td>positive</td>\n",
       "      <td>Excellent Soundtrack: I truly like this soundt...</td>\n",
       "    </tr>\n",
       "    <tr>\n",
       "      <th>4</th>\n",
       "      <td>positive</td>\n",
       "      <td>Remember, Pull Your Jaw Off The Floor After He...</td>\n",
       "    </tr>\n",
       "    <tr>\n",
       "      <th>5</th>\n",
       "      <td>positive</td>\n",
       "      <td>an absolute masterpiece: I am quite sure any o...</td>\n",
       "    </tr>\n",
       "    <tr>\n",
       "      <th>6</th>\n",
       "      <td>negative</td>\n",
       "      <td>Buyer beware: This is a self-published book, a...</td>\n",
       "    </tr>\n",
       "    <tr>\n",
       "      <th>7</th>\n",
       "      <td>positive</td>\n",
       "      <td>Glorious story: I loved Whisper of the wicked ...</td>\n",
       "    </tr>\n",
       "  </tbody>\n",
       "</table>\n",
       "</div>"
      ],
      "text/plain": [
       "     labels                                               text\n",
       "0  positive  Stuning even for the non-gamer: This sound tra...\n",
       "1  positive  The best soundtrack ever to anything.: I'm rea...\n",
       "2  positive  Amazing!: This soundtrack is my favorite music...\n",
       "3  positive  Excellent Soundtrack: I truly like this soundt...\n",
       "4  positive  Remember, Pull Your Jaw Off The Floor After He...\n",
       "5  positive  an absolute masterpiece: I am quite sure any o...\n",
       "6  negative  Buyer beware: This is a self-published book, a...\n",
       "7  positive  Glorious story: I loved Whisper of the wicked ..."
      ]
     },
     "execution_count": 9,
     "metadata": {},
     "output_type": "execute_result"
    }
   ],
   "source": [
    "# Lets see the new DataFrame\n",
    "df1.head(8)"
   ]
  },
  {
   "cell_type": "code",
   "execution_count": 10,
   "id": "bb9c698a",
   "metadata": {},
   "outputs": [],
   "source": [
    "# Remove the stopwords, the bag of words and tfidf\n",
    "text = \"i love this product, it is very good\""
   ]
  },
  {
   "cell_type": "code",
   "execution_count": 11,
   "id": "2a665021",
   "metadata": {},
   "outputs": [],
   "source": [
    "# Tokenise the text. split into list of words\n",
    "words = nltk.word_tokenize(text)"
   ]
  },
  {
   "cell_type": "code",
   "execution_count": 12,
   "id": "0427d76f",
   "metadata": {},
   "outputs": [
    {
     "data": {
      "text/plain": [
       "['love', 'product', ',']"
      ]
     },
     "execution_count": 12,
     "metadata": {},
     "output_type": "execute_result"
    }
   ],
   "source": [
    "# Filtering out stopwords\n",
    "filtered_words = [word for word in words if word not in stop_words]\n",
    "filtered_words"
   ]
  },
  {
   "cell_type": "code",
   "execution_count": 13,
   "id": "4822a0e2",
   "metadata": {},
   "outputs": [],
   "source": [
    "# Reconstruct the list to a sentence using join method\n",
    "filtered_text = \" \".join(filtered_words)"
   ]
  },
  {
   "cell_type": "code",
   "execution_count": 14,
   "id": "77b468e2",
   "metadata": {},
   "outputs": [],
   "source": [
    "def remove_stopwords(text):\n",
    "  \"\"\"\n",
    "  this function takes in a setence\n",
    "  tokenises the sentence\n",
    "  filter out stopwords and returns a more compact sentence\n",
    "  \"\"\"\n",
    "  words = nltk.word_tokenize(text)\n",
    "  filtered_words = [word for word in words if word not in stop_words]\n",
    "  filtered_text = \" \".join(filtered_words)\n",
    "  return filtered_text"
   ]
  },
  {
   "cell_type": "code",
   "execution_count": 15,
   "id": "f6fb773b",
   "metadata": {},
   "outputs": [
    {
     "data": {
      "text/plain": [
       "'love product ,'"
      ]
     },
     "execution_count": 15,
     "metadata": {},
     "output_type": "execute_result"
    }
   ],
   "source": [
    "remove_stopwords(text)"
   ]
  },
  {
   "cell_type": "code",
   "execution_count": 16,
   "id": "56180c10",
   "metadata": {},
   "outputs": [
    {
     "data": {
      "text/plain": [
       "0    Stuning non-gamer : This sound track beautiful...\n",
       "1    The soundtrack . : I 'm reading lot reviews 'g...\n",
       "2    Amazing ! : This soundtrack favorite music tim...\n",
       "3    Excellent Soundtrack : I soundtrack I enjoy vi...\n",
       "4    Remember , Pull Your Jaw Off The Floor After H...\n",
       "5    absolute masterpiece : I taking time read play...\n",
       "6    Buyer beware : This self-published book , -- r...\n",
       "7    Glorious story : I loved Whisper wicked saints...\n",
       "8    A FIVE STAR BOOK : I finished reading Whisper ...\n",
       "9    Whispers Wicked Saints : This easy read book m...\n",
       "Name: text, dtype: object"
      ]
     },
     "execution_count": 16,
     "metadata": {},
     "output_type": "execute_result"
    }
   ],
   "source": [
    "df1['text'].head(10).apply(remove_stopwords)"
   ]
  },
  {
   "cell_type": "code",
   "execution_count": 17,
   "id": "bcaba932",
   "metadata": {},
   "outputs": [
    {
     "name": "stderr",
     "output_type": "stream",
     "text": [
      "100%|█████████████████████████████████████████████████████████████████████| 3600010/3600010 [10:10:34<00:00, 98.27it/s]\n"
     ]
    }
   ],
   "source": [
    "total_rows = len(df1)\n",
    "tqdm.pandas(total = total_rows)\n",
    "df1['stop words'] = df1['text'].progress_apply(remove_stopwords)"
   ]
  },
  {
   "cell_type": "code",
   "execution_count": 18,
   "id": "e6cfa10c",
   "metadata": {},
   "outputs": [
    {
     "name": "stderr",
     "output_type": "stream",
     "text": [
      "100%|████████████████████████████████████████████████████████████████████████| 400000/400000 [1:20:24<00:00, 82.91it/s]\n"
     ]
    }
   ],
   "source": [
    "total_rows = len(df2)\n",
    "tqdm.pandas(total = total_rows)\n",
    "df2['stop words'] = df2['text'].progress_apply(remove_stopwords)"
   ]
  },
  {
   "cell_type": "code",
   "execution_count": 20,
   "id": "2a241816",
   "metadata": {},
   "outputs": [],
   "source": [
    "# Creat Bag of words and Create tf-idf\n",
    "from sklearn.feature_extraction.text import CountVectorizer\n",
    "from sklearn.feature_extraction.text import TfidfVectorizer\n"
   ]
  },
  {
   "cell_type": "code",
   "execution_count": 21,
   "id": "7da30bfa",
   "metadata": {},
   "outputs": [],
   "source": [
    "### Creating Bag of words from stopwords column\n",
    "vectorizer = CountVectorizer()\n",
    "train_bow = vectorizer.fit_transform(df1['stop words'])\n",
    "test_bow = vectorizer.transform(df2['stop words'])"
   ]
  },
  {
   "cell_type": "code",
   "execution_count": 23,
   "id": "e6eb43dd",
   "metadata": {},
   "outputs": [],
   "source": [
    "### Creating a tf-idf matrix from stopwords\n",
    "tfidf_vectorizer = TfidfVectorizer()\n",
    "train_tfidf = tfidf_vectorizer.fit_transform(df1['stop words'])\n",
    "\n",
    "test_tfidf = tfidf_vectorizer.transform(df2['stop words'])"
   ]
  },
  {
   "cell_type": "markdown",
   "id": "c566170e",
   "metadata": {},
   "source": [
    "### MODELLING"
   ]
  },
  {
   "cell_type": "code",
   "execution_count": null,
   "id": "ba198979",
   "metadata": {},
   "outputs": [],
   "source": [
    "# Vader on normal sentences\n",
    "# Vader on sent6ences withyout stop words\n",
    "# Custom on train_tfidf\n",
    "# Custom on train_bow"
   ]
  },
  {
   "cell_type": "code",
   "execution_count": 24,
   "id": "33e46537",
   "metadata": {},
   "outputs": [
    {
     "name": "stderr",
     "output_type": "stream",
     "text": [
      "[nltk_data] Downloading package vader_lexicon to C:\\Users\\HENRY\n",
      "[nltk_data]     OKEOMA\\AppData\\Roaming\\nltk_data...\n"
     ]
    }
   ],
   "source": [
    "# Vader on normal sentences\n",
    "import nltk\n",
    "nltk.download(\"vader_lexicon\")\n",
    "\n",
    "# From Vader import sentiment analyzer\n",
    "from nltk.sentiment.vader import SentimentIntensityAnalyzer"
   ]
  },
  {
   "cell_type": "code",
   "execution_count": 25,
   "id": "4eb462b2",
   "metadata": {},
   "outputs": [],
   "source": [
    "# Vader is a pretrained model for analysing sentiment of sentences\n",
    "analyzer = SentimentIntensityAnalyzer()"
   ]
  },
  {
   "cell_type": "code",
   "execution_count": 34,
   "id": "c7b1a6a2",
   "metadata": {},
   "outputs": [],
   "source": [
    "example_text = \"i love the orange flavour, good product\""
   ]
  },
  {
   "cell_type": "code",
   "execution_count": 35,
   "id": "86ab2673",
   "metadata": {},
   "outputs": [],
   "source": [
    "sentiment_scores = analyzer.polarity_scores(example_text)"
   ]
  },
  {
   "cell_type": "code",
   "execution_count": 36,
   "id": "f6b34a08",
   "metadata": {},
   "outputs": [
    {
     "data": {
      "text/plain": [
       "0.7964"
      ]
     },
     "execution_count": 36,
     "metadata": {},
     "output_type": "execute_result"
    }
   ],
   "source": [
    "compound_score = sentiment_scores['compound']\n",
    "compound_score"
   ]
  },
  {
   "cell_type": "code",
   "execution_count": 37,
   "id": "fb67b299",
   "metadata": {},
   "outputs": [],
   "source": [
    "def analyze_sentence(sentence):\n",
    "  \"\"\"\n",
    "  takes a sentence\n",
    "  get the sentiments score using analyzer\n",
    "  return positive if compound score greater tahn 0, else return negative\n",
    "  \"\"\"\n",
    "  sentiment_scores = analyzer.polarity_scores(sentence)\n",
    "  compound_score = sentiment_scores['compound']\n",
    "  if compound_score > 0:\n",
    "    return \"positive\"\n",
    "  else:\n",
    "    return \"negative\""
   ]
  },
  {
   "cell_type": "code",
   "execution_count": 38,
   "id": "cd12654b",
   "metadata": {},
   "outputs": [
    {
     "data": {
      "text/plain": [
       "'positive'"
      ]
     },
     "execution_count": 38,
     "metadata": {},
     "output_type": "execute_result"
    }
   ],
   "source": [
    "analyze_sentence(example_text)"
   ]
  },
  {
   "cell_type": "code",
   "execution_count": 39,
   "id": "c1e023a2",
   "metadata": {},
   "outputs": [],
   "source": [
    "# Vader on text\n",
    "df2['vader_on_text'] = df2['text'].apply(analyze_sentence)"
   ]
  },
  {
   "cell_type": "code",
   "execution_count": 40,
   "id": "1211d7f5",
   "metadata": {},
   "outputs": [],
   "source": [
    "# Vader on stopwords column\n",
    "df2['vader_on_text_without_stopwords'] = df2['stop words'].apply(analyze_sentence)"
   ]
  },
  {
   "cell_type": "code",
   "execution_count": 41,
   "id": "d4519b2b",
   "metadata": {},
   "outputs": [
    {
     "data": {
      "text/plain": [
       "<3600010x980461 sparse matrix of type '<class 'numpy.float64'>'\n",
       "\twith 110767474 stored elements in Compressed Sparse Row format>"
      ]
     },
     "execution_count": 41,
     "metadata": {},
     "output_type": "execute_result"
    }
   ],
   "source": [
    "# training customes model on bag of words and tf-idf\n",
    "train_tfidf"
   ]
  },
  {
   "cell_type": "code",
   "execution_count": 42,
   "id": "0f0b4041",
   "metadata": {},
   "outputs": [
    {
     "data": {
      "text/plain": [
       "<3600010x980461 sparse matrix of type '<class 'numpy.int64'>'\n",
       "\twith 110767474 stored elements in Compressed Sparse Row format>"
      ]
     },
     "execution_count": 42,
     "metadata": {},
     "output_type": "execute_result"
    }
   ],
   "source": [
    "train_bow"
   ]
  },
  {
   "cell_type": "code",
   "execution_count": 43,
   "id": "7f22c592",
   "metadata": {},
   "outputs": [],
   "source": [
    "# Multinomial Naive bayes\n",
    "from sklearn.naive_bayes import MultinomialNB"
   ]
  },
  {
   "cell_type": "code",
   "execution_count": 44,
   "id": "cfaaafac",
   "metadata": {},
   "outputs": [],
   "source": [
    "# Creating Classifier objects for tfidf and bow model\n",
    "classifier_bow = MultinomialNB()\n",
    "classifier_tfidf = MultinomialNB()"
   ]
  },
  {
   "cell_type": "code",
   "execution_count": 45,
   "id": "31a5696d",
   "metadata": {},
   "outputs": [
    {
     "data": {
      "text/plain": [
       "MultinomialNB()"
      ]
     },
     "execution_count": 45,
     "metadata": {},
     "output_type": "execute_result"
    }
   ],
   "source": [
    "# Fit the models\n",
    "classifier_bow.fit(train_bow, df1['labels'])\n",
    "classifier_tfidf.fit(train_tfidf, df1['labels'])"
   ]
  },
  {
   "cell_type": "code",
   "execution_count": 46,
   "id": "86c38a2c",
   "metadata": {},
   "outputs": [
    {
     "data": {
      "text/plain": [
       "<400000x980461 sparse matrix of type '<class 'numpy.int64'>'\n",
       "\twith 12237613 stored elements in Compressed Sparse Row format>"
      ]
     },
     "execution_count": 46,
     "metadata": {},
     "output_type": "execute_result"
    }
   ],
   "source": [
    "test_bow\n"
   ]
  },
  {
   "cell_type": "code",
   "execution_count": 47,
   "id": "3bb903da",
   "metadata": {},
   "outputs": [
    {
     "data": {
      "text/plain": [
       "<400000x980461 sparse matrix of type '<class 'numpy.float64'>'\n",
       "\twith 12237613 stored elements in Compressed Sparse Row format>"
      ]
     },
     "execution_count": 47,
     "metadata": {},
     "output_type": "execute_result"
    }
   ],
   "source": [
    "test_tfidf"
   ]
  },
  {
   "cell_type": "code",
   "execution_count": 48,
   "id": "3e51661a",
   "metadata": {},
   "outputs": [],
   "source": [
    "# making predictions with classifier\n",
    "\n",
    "df2['bow'] = classifier_bow.predict(test_bow)"
   ]
  },
  {
   "cell_type": "code",
   "execution_count": 49,
   "id": "7a6c496c",
   "metadata": {},
   "outputs": [],
   "source": [
    "df2['tfidf'] = classifier_bow.predict(test_tfidf)"
   ]
  },
  {
   "cell_type": "markdown",
   "id": "30862e64",
   "metadata": {},
   "source": [
    "### MODEL EVALUATION: USING ACCURACY SCORES AND CLASSIFICATION REPORT"
   ]
  },
  {
   "cell_type": "code",
   "execution_count": 50,
   "id": "c12ed70c",
   "metadata": {},
   "outputs": [],
   "source": [
    "from sklearn.metrics import accuracy_score, classification_report"
   ]
  },
  {
   "cell_type": "code",
   "execution_count": 51,
   "id": "21e650c1",
   "metadata": {},
   "outputs": [
    {
     "data": {
      "text/html": [
       "<div>\n",
       "<style scoped>\n",
       "    .dataframe tbody tr th:only-of-type {\n",
       "        vertical-align: middle;\n",
       "    }\n",
       "\n",
       "    .dataframe tbody tr th {\n",
       "        vertical-align: top;\n",
       "    }\n",
       "\n",
       "    .dataframe thead th {\n",
       "        text-align: right;\n",
       "    }\n",
       "</style>\n",
       "<table border=\"1\" class=\"dataframe\">\n",
       "  <thead>\n",
       "    <tr style=\"text-align: right;\">\n",
       "      <th></th>\n",
       "      <th>labels</th>\n",
       "      <th>text</th>\n",
       "      <th>stop words</th>\n",
       "      <th>vader_on_text</th>\n",
       "      <th>vader_on_text_without_stopwords</th>\n",
       "      <th>bow</th>\n",
       "      <th>tfidf</th>\n",
       "    </tr>\n",
       "  </thead>\n",
       "  <tbody>\n",
       "    <tr>\n",
       "      <th>0</th>\n",
       "      <td>positive</td>\n",
       "      <td>Great CD: My lovely Pat has one of the GREAT v...</td>\n",
       "      <td>Great CD : My lovely Pat GREAT voices generati...</td>\n",
       "      <td>positive</td>\n",
       "      <td>positive</td>\n",
       "      <td>positive</td>\n",
       "      <td>positive</td>\n",
       "    </tr>\n",
       "    <tr>\n",
       "      <th>1</th>\n",
       "      <td>positive</td>\n",
       "      <td>One of the best game music soundtracks - for a...</td>\n",
       "      <td>One game music soundtracks - game I n't play :...</td>\n",
       "      <td>positive</td>\n",
       "      <td>positive</td>\n",
       "      <td>positive</td>\n",
       "      <td>positive</td>\n",
       "    </tr>\n",
       "    <tr>\n",
       "      <th>2</th>\n",
       "      <td>negative</td>\n",
       "      <td>Batteries died within a year ...: I bought thi...</td>\n",
       "      <td>Batteries died year ... : I bought charger Jul...</td>\n",
       "      <td>positive</td>\n",
       "      <td>positive</td>\n",
       "      <td>negative</td>\n",
       "      <td>negative</td>\n",
       "    </tr>\n",
       "    <tr>\n",
       "      <th>3</th>\n",
       "      <td>positive</td>\n",
       "      <td>works fine, but Maha Energy is better: Check o...</td>\n",
       "      <td>works fine , Maha Energy : Check Maha Energy '...</td>\n",
       "      <td>positive</td>\n",
       "      <td>positive</td>\n",
       "      <td>negative</td>\n",
       "      <td>negative</td>\n",
       "    </tr>\n",
       "    <tr>\n",
       "      <th>4</th>\n",
       "      <td>positive</td>\n",
       "      <td>Great for the non-audiophile: Reviewed quite a...</td>\n",
       "      <td>Great non-audiophile : Reviewed bit combo play...</td>\n",
       "      <td>positive</td>\n",
       "      <td>positive</td>\n",
       "      <td>positive</td>\n",
       "      <td>positive</td>\n",
       "    </tr>\n",
       "  </tbody>\n",
       "</table>\n",
       "</div>"
      ],
      "text/plain": [
       "     labels                                               text  \\\n",
       "0  positive  Great CD: My lovely Pat has one of the GREAT v...   \n",
       "1  positive  One of the best game music soundtracks - for a...   \n",
       "2  negative  Batteries died within a year ...: I bought thi...   \n",
       "3  positive  works fine, but Maha Energy is better: Check o...   \n",
       "4  positive  Great for the non-audiophile: Reviewed quite a...   \n",
       "\n",
       "                                          stop words vader_on_text  \\\n",
       "0  Great CD : My lovely Pat GREAT voices generati...      positive   \n",
       "1  One game music soundtracks - game I n't play :...      positive   \n",
       "2  Batteries died year ... : I bought charger Jul...      positive   \n",
       "3  works fine , Maha Energy : Check Maha Energy '...      positive   \n",
       "4  Great non-audiophile : Reviewed bit combo play...      positive   \n",
       "\n",
       "  vader_on_text_without_stopwords       bow     tfidf  \n",
       "0                        positive  positive  positive  \n",
       "1                        positive  positive  positive  \n",
       "2                        positive  negative  negative  \n",
       "3                        positive  negative  negative  \n",
       "4                        positive  positive  positive  "
      ]
     },
     "execution_count": 51,
     "metadata": {},
     "output_type": "execute_result"
    }
   ],
   "source": [
    "# Evaluation\n",
    "df2.head(5)"
   ]
  },
  {
   "cell_type": "code",
   "execution_count": 52,
   "id": "745539ed",
   "metadata": {},
   "outputs": [],
   "source": [
    "vader_text_accuracy_score = accuracy_score(df2['labels'], df2['vader_on_text'])"
   ]
  },
  {
   "cell_type": "code",
   "execution_count": 53,
   "id": "babc6278",
   "metadata": {},
   "outputs": [
    {
     "name": "stdout",
     "output_type": "stream",
     "text": [
      "              precision    recall  f1-score   support\n",
      "\n",
      "    negative       0.87      0.51      0.64    200000\n",
      "    positive       0.65      0.92      0.76    200000\n",
      "\n",
      "    accuracy                           0.72    400000\n",
      "   macro avg       0.76      0.72      0.70    400000\n",
      "weighted avg       0.76      0.72      0.70    400000\n",
      "\n"
     ]
    }
   ],
   "source": [
    "print(classification_report(df2['labels'], df2['vader_on_text']))"
   ]
  },
  {
   "cell_type": "code",
   "execution_count": 54,
   "id": "47a70c91",
   "metadata": {},
   "outputs": [],
   "source": [
    "vader_text_stopwords_accuracy_score = accuracy_score(df2['labels'], df2['vader_on_text_without_stopwords'])"
   ]
  },
  {
   "cell_type": "code",
   "execution_count": 55,
   "id": "d1efd0c9",
   "metadata": {},
   "outputs": [
    {
     "name": "stdout",
     "output_type": "stream",
     "text": [
      "              precision    recall  f1-score   support\n",
      "\n",
      "    negative       0.83      0.55      0.66    200000\n",
      "    positive       0.66      0.89      0.76    200000\n",
      "\n",
      "    accuracy                           0.72    400000\n",
      "   macro avg       0.74      0.72      0.71    400000\n",
      "weighted avg       0.74      0.72      0.71    400000\n",
      "\n"
     ]
    }
   ],
   "source": [
    "print(classification_report(df2['labels'], df2['vader_on_text_without_stopwords']))"
   ]
  },
  {
   "cell_type": "code",
   "execution_count": 56,
   "id": "14fc638c",
   "metadata": {},
   "outputs": [],
   "source": [
    "bow_score = accuracy_score(df2['labels'], df2['bow'])"
   ]
  },
  {
   "cell_type": "code",
   "execution_count": 57,
   "id": "e7716949",
   "metadata": {},
   "outputs": [
    {
     "name": "stdout",
     "output_type": "stream",
     "text": [
      "              precision    recall  f1-score   support\n",
      "\n",
      "    negative       0.84      0.85      0.85    200000\n",
      "    positive       0.85      0.84      0.85    200000\n",
      "\n",
      "    accuracy                           0.85    400000\n",
      "   macro avg       0.85      0.85      0.85    400000\n",
      "weighted avg       0.85      0.85      0.85    400000\n",
      "\n"
     ]
    }
   ],
   "source": [
    "print(classification_report(df2['labels'], df2['bow']))"
   ]
  },
  {
   "cell_type": "code",
   "execution_count": 58,
   "id": "43346b85",
   "metadata": {},
   "outputs": [],
   "source": [
    "tfidf_score = accuracy_score(df2['labels'], df2['tfidf'])"
   ]
  },
  {
   "cell_type": "code",
   "execution_count": 59,
   "id": "35b638d4",
   "metadata": {},
   "outputs": [
    {
     "name": "stdout",
     "output_type": "stream",
     "text": [
      "              precision    recall  f1-score   support\n",
      "\n",
      "    negative       0.82      0.84      0.83    200000\n",
      "    positive       0.84      0.82      0.83    200000\n",
      "\n",
      "    accuracy                           0.83    400000\n",
      "   macro avg       0.83      0.83      0.83    400000\n",
      "weighted avg       0.83      0.83      0.83    400000\n",
      "\n"
     ]
    }
   ],
   "source": [
    "print(classification_report(df2['labels'], df2['tfidf']))"
   ]
  },
  {
   "cell_type": "markdown",
   "id": "cec46690",
   "metadata": {},
   "source": [
    "### CONCLUSION"
   ]
  },
  {
   "cell_type": "code",
   "execution_count": 71,
   "id": "a884a367",
   "metadata": {},
   "outputs": [],
   "source": [
    "def inference(text):\n",
    "    # remove stopwords, convert remaining text to bag of words, and pass\n",
    "    # the bag of words to classifier_bow, then return predictions\n",
    "\n",
    "    filtered_text = remove_stopwords(text)\n",
    "\n",
    "    \n",
    "    bow_single = vectorizer.transform([filtered_text])  \n",
    "\n",
    "    inference_result = classifier_bow.predict(bow_single)\n",
    "\n",
    "    return inference_result[0]\n"
   ]
  },
  {
   "cell_type": "code",
   "execution_count": 72,
   "id": "53c0bc1a",
   "metadata": {},
   "outputs": [],
   "source": [
    "example = 'i love the orange flavour, it is so good'"
   ]
  },
  {
   "cell_type": "code",
   "execution_count": 73,
   "id": "86569ba1",
   "metadata": {},
   "outputs": [
    {
     "data": {
      "text/plain": [
       "'positive'"
      ]
     },
     "execution_count": 73,
     "metadata": {},
     "output_type": "execute_result"
    }
   ],
   "source": [
    "inference(example)"
   ]
  }
 ],
 "metadata": {
  "kernelspec": {
   "display_name": "Python 3 (ipykernel)",
   "language": "python",
   "name": "python3"
  },
  "language_info": {
   "codemirror_mode": {
    "name": "ipython",
    "version": 3
   },
   "file_extension": ".py",
   "mimetype": "text/x-python",
   "name": "python",
   "nbconvert_exporter": "python",
   "pygments_lexer": "ipython3",
   "version": "3.9.13"
  }
 },
 "nbformat": 4,
 "nbformat_minor": 5
}
